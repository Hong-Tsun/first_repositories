{
 "metadata": {
  "name": ""
 },
 "nbformat": 3,
 "nbformat_minor": 0,
 "worksheets": [
  {
   "cells": [
    {
     "cell_type": "markdown",
     "metadata": {},
     "source": [
      "## git and ipython command"
     ]
    },
    {
     "cell_type": "markdown",
     "metadata": {},
     "source": [
      "##(1) git clone [HTTPS clone URL  github]"
     ]
    },
    {
     "cell_type": "markdown",
     "metadata": {},
     "source": [
      "##(2) ipython notebook command is  [ipython notebook]"
     ]
    },
    {
     "cell_type": "markdown",
     "metadata": {},
     "source": [
      "## install ipython and ipython-notebook"
     ]
    },
    {
     "cell_type": "markdown",
     "metadata": {},
     "source": [
      "##(3) git add [filename]"
     ]
    },
    {
     "cell_type": "markdown",
     "metadata": {},
     "source": [
      "## you also can use git add -i to use"
     ]
    },
    {
     "cell_type": "markdown",
     "metadata": {},
     "source": [
      "## (4) git commit -m [message]"
     ]
    },
    {
     "cell_type": "markdown",
     "metadata": {},
     "source": [
      "## (5) git push   "
     ]
    },
    {
     "cell_type": "markdown",
     "metadata": {},
     "source": [
      "## first use : git push -u origin master "
     ]
    },
    {
     "cell_type": "markdown",
     "metadata": {},
     "source": [
      "##git update"
     ]
    },
    {
     "cell_type": "markdown",
     "metadata": {},
     "source": [
      "## ()\n"
     ]
    },
    {
     "cell_type": "code",
     "collapsed": false,
     "input": [],
     "language": "python",
     "metadata": {},
     "outputs": []
    }
   ],
   "metadata": {}
  }
 ]
}
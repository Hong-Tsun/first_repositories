{
 "metadata": {
  "name": ""
 },
 "nbformat": 3,
 "nbformat_minor": 0,
 "worksheets": [
  {
   "cells": [
    {
     "cell_type": "markdown",
     "metadata": {},
     "source": [
      "## git and ipython command"
     ]
    },
    {
     "cell_type": "markdown",
     "metadata": {},
     "source": [
      "##(1) git clone [HTTPS clone URL  github]"
     ]
    },
    {
     "cell_type": "markdown",
     "metadata": {},
     "source": [
      "##(2) ipython notebook command is  [ipython notebook]"
     ]
    },
    {
     "cell_type": "markdown",
     "metadata": {},
     "source": [
      "## install ipython and ipython-notebook"
     ]
    },
    {
     "cell_type": "markdown",
     "metadata": {},
     "source": [
      "## can use (2.1) git status "
     ]
    },
    {
     "cell_type": "markdown",
     "metadata": {},
     "source": [
      "##(3) git add [filename]"
     ]
    },
    {
     "cell_type": "markdown",
     "metadata": {},
     "source": [
      "## you also can use git add -i to use"
     ]
    },
    {
     "cell_type": "markdown",
     "metadata": {},
     "source": [
      "## (4) git commit -m [message]"
     ]
    },
    {
     "cell_type": "markdown",
     "metadata": {},
     "source": [
      "## (5) git push   "
     ]
    },
    {
     "cell_type": "markdown",
     "metadata": {},
     "source": [
      "## first use : git push -u origin master "
     ]
    },
    {
     "cell_type": "markdown",
     "metadata": {},
     "source": [
      "##git update"
     ]
    },
    {
     "cell_type": "markdown",
     "metadata": {},
     "source": [
      "## (6) git add [filename]\n"
     ]
    },
    {
     "cell_type": "markdown",
     "metadata": {},
     "source": [
      "##(7) git commit -m [message]\n"
     ]
    },
    {
     "cell_type": "markdown",
     "metadata": {},
     "source": [
      "##(8) git push .............OK"
     ]
    },
    {
     "cell_type": "markdown",
     "metadata": {},
     "source": [
      "## Use nbviewer  http://nbviewer.ipython.org/"
     ]
    },
    {
     "cell_type": "markdown",
     "metadata": {},
     "source": [
      "## nbviewer reading JSON notebook  "
     ]
    },
    {
     "cell_type": "markdown",
     "metadata": {},
     "source": [
      "## http://nbviewer.ipython.org/github/hong-Tsun/"
     ]
    },
    {
     "cell_type": "markdown",
     "metadata": {},
     "source": [
      "## (8) git log "
     ]
    },
    {
     "cell_type": "markdown",
     "metadata": {},
     "source": [
      "## (9) git checkout [commit number]"
     ]
    },
    {
     "cell_type": "markdown",
     "metadata": {},
     "source": [
      "##  branch     "
     ]
    },
    {
     "cell_type": "markdown",
     "metadata": {},
     "source": [
      "New Frature  \u5206\u53c9"
     ]
    },
    {
     "cell_type": "markdown",
     "metadata": {},
     "source": [
      "## (1) git branch   (look all)"
     ]
    },
    {
     "cell_type": "markdown",
     "metadata": {},
     "source": [
      "##(2) git branch [frature name]"
     ]
    },
    {
     "cell_type": "markdown",
     "metadata": {},
     "source": [
      "##(3) git checkout [feature name] (change to branch)"
     ]
    },
    {
     "cell_type": "markdown",
     "metadata": {},
     "source": [
      "then you can git add......git commit.....   git checkout master "
     ]
    },
    {
     "cell_type": "markdown",
     "metadata": {},
     "source": [
      "##(4) git merge [frature name]   (on master  \u62c9\u5225\u4eba\u8fd1\u4f86\u7684\u611f\u89ba)"
     ]
    },
    {
     "cell_type": "markdown",
     "metadata": {},
     "source": []
    }
   ],
   "metadata": {}
  }
 ]
}
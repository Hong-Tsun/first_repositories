{
 "metadata": {
  "name": ""
 },
 "nbformat": 3,
 "nbformat_minor": 0,
 "worksheets": [
  {
   "cells": [
    {
     "cell_type": "markdown",
     "metadata": {},
     "source": [
      "## git and ipython command"
     ]
    },
    {
     "cell_type": "markdown",
     "metadata": {},
     "source": [
      "##(1) git clone [HTTPS clone URL  github]"
     ]
    },
    {
     "cell_type": "markdown",
     "metadata": {},
     "source": [
      "##(2) ipython notebook command is  [ipython notebook]"
     ]
    },
    {
     "cell_type": "markdown",
     "metadata": {},
     "source": [
      "##(3) "
     ]
    }
   ],
   "metadata": {}
  }
 ]
}